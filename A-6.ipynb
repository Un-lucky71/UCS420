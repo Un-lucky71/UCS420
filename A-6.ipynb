{
  "nbformat": 4,
  "nbformat_minor": 0,
  "metadata": {
    "colab": {
      "provenance": []
    },
    "kernelspec": {
      "name": "python3",
      "display_name": "Python 3"
    },
    "language_info": {
      "name": "python"
    }
  },
  "cells": [
    {
      "cell_type": "markdown",
      "source": [
        "## **Assignment-6**\n",
        "**Q-1:WAP using function that add all odd numbers from 1 to n, n is given by the user.**"
      ],
      "metadata": {
        "id": "vBcgBK1ccZnh"
      }
    },
    {
      "cell_type": "code",
      "execution_count": 11,
      "metadata": {
        "colab": {
          "base_uri": "https://localhost:8080/"
        },
        "id": "djbpAuMIWjCy",
        "outputId": "a60dac22-b282-4e6c-a65b-2131c79dcac4"
      },
      "outputs": [
        {
          "output_type": "stream",
          "name": "stdout",
          "text": [
            "Enter a number: 19\n",
            "Sum of odd numbers from 1 to 19 is 100\n"
          ]
        }
      ],
      "source": [
        "def addOdd(n):\n",
        "  sum = 0\n",
        "  for i in range(1, n+1):\n",
        "    if i % 2 != 0:\n",
        "      sum += i\n",
        "  return sum\n",
        "\n",
        "n = int(input(\"Enter a number: \"))\n",
        "print(\"Sum of odd numbers from 1 to\", n, \"is\", addOdd(n))"
      ]
    },
    {
      "cell_type": "markdown",
      "source": [
        "**Q-2: WAP using function that add all prime numbers from 1 to n, n given by the user.**"
      ],
      "metadata": {
        "id": "pJzbhvA6lrSM"
      }
    },
    {
      "cell_type": "code",
      "source": [
        "def addPrime(n):\n",
        "  sum = 0\n",
        "  for i in range(2, n//2+1):\n",
        "    if n%i != 0:\n",
        "      sum += i\n",
        "  return sum\n",
        "\n",
        "n = int(input(\"Enter a number: \"))\n",
        "print(\"Sum of prime numbers from 1 to\", n, \"is\", addPrime(n))"
      ],
      "metadata": {
        "colab": {
          "base_uri": "https://localhost:8080/"
        },
        "id": "B8Ocm7qOlkOP",
        "outputId": "aad88471-15ef-42ff-f994-8d55f8606aa2"
      },
      "execution_count": 12,
      "outputs": [
        {
          "output_type": "stream",
          "name": "stdout",
          "text": [
            "Enter a number: 17\n",
            "Sum of prime numbers from 1 to 17 is 35\n"
          ]
        }
      ]
    }
  ]
}