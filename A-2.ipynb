{
  "nbformat": 4,
  "nbformat_minor": 0,
  "metadata": {
    "colab": {
      "provenance": []
    },
    "kernelspec": {
      "name": "python3",
      "display_name": "Python 3"
    },
    "language_info": {
      "name": "python"
    }
  },
  "cells": [
    {
      "cell_type": "markdown",
      "source": [
        "## **Assignment-2**\n",
        "**Q-1:WAP to add three numbers and print the result.**"
      ],
      "metadata": {
        "id": "vBcgBK1ccZnh"
      }
    },
    {
      "cell_type": "code",
      "execution_count": 16,
      "metadata": {
        "colab": {
          "base_uri": "https://localhost:8080/"
        },
        "id": "djbpAuMIWjCy",
        "outputId": "03000c7d-8d86-4a39-b347-d03d46a21fc6"
      },
      "outputs": [
        {
          "output_type": "stream",
          "name": "stdout",
          "text": [
            "Sum of three numbers is: 115\n"
          ]
        }
      ],
      "source": [
        "num1 = 15\n",
        "num2 = 30\n",
        "num3 = 70\n",
        "sum = num1 + num2 + num3\n",
        "print(\"Sum of three numbers is:\", sum)"
      ]
    },
    {
      "cell_type": "markdown",
      "source": [
        "**Q-2: WAP to concatinate three strings and print the result.**"
      ],
      "metadata": {
        "id": "pJzbhvA6lrSM"
      }
    },
    {
      "cell_type": "code",
      "source": [
        "s1 = \"Hello\"\n",
        "s2 = \"World\"\n",
        "s3= \"!!??\"\n",
        "result = s1 + s2 + s3\n",
        "print(\"Concatenated string is:\", result)"
      ],
      "metadata": {
        "colab": {
          "base_uri": "https://localhost:8080/"
        },
        "id": "B8Ocm7qOlkOP",
        "outputId": "d6fb3b07-06ce-4eea-df15-730c75aa19a5"
      },
      "execution_count": 15,
      "outputs": [
        {
          "output_type": "stream",
          "name": "stdout",
          "text": [
            "Concatenated string is: HelloWorld!!??\n"
          ]
        }
      ]
    }
  ]
}