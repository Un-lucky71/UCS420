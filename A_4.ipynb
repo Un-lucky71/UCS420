{
  "nbformat": 4,
  "nbformat_minor": 0,
  "metadata": {
    "colab": {
      "provenance": []
    },
    "kernelspec": {
      "name": "python3",
      "display_name": "Python 3"
    },
    "language_info": {
      "name": "python"
    }
  },
  "cells": [
    {
      "cell_type": "markdown",
      "source": [
        "## **Assingment 4**\n",
        "Q-1 WAP to print the table of 7, 9."
      ],
      "metadata": {
        "id": "YyZ01_8Mjmsp"
      }
    },
    {
      "cell_type": "code",
      "execution_count": null,
      "metadata": {
        "id": "aiDg8LbZjiEW"
      },
      "outputs": [],
      "source": [
        "#Table of 7\n",
        "for i in range(1,11):\n",
        "    print(\"7 *\",i,\"=\",7*i)"
      ]
    }
  ]
}