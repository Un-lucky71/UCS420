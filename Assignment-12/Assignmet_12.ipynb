{
  "nbformat": 4,
  "nbformat_minor": 0,
  "metadata": {
    "colab": {
      "provenance": []
    },
    "kernelspec": {
      "name": "python3",
      "display_name": "Python 3"
    },
    "language_info": {
      "name": "python"
    }
  },
  "cells": [
    {
      "cell_type": "code",
      "execution_count": 1,
      "metadata": {
        "colab": {
          "base_uri": "https://localhost:8080/"
        },
        "id": "sVwzmun7app1",
        "outputId": "8dbf9b14-75bb-46c4-aa4c-363060605f98"
      },
      "outputs": [
        {
          "output_type": "stream",
          "name": "stdout",
          "text": [
            "HealthBot: Hello! I am HealthBot. How can I assist you today?\n",
            "You: i am lucky boy\n",
            "HealthBot: I'm sorry, I don't have an answer for that. Please consult a doctor.\n",
            "You: \n",
            "HealthBot: I'm sorry, I don't have an answer for that. Please consult a doctor.\n",
            "You: HealthBot:\n",
            "HealthBot: I'm sorry, I don't have an answer for that. Please consult a doctor.\n",
            "You: i have a headache\n",
            "HealthBot: You should rest, stay hydrated, and take a mild pain reliever if needed.\n",
            "You: what should i eat for a cold?\n",
            "HealthBot: Warm fluids, soups, citrus fruits, and light meals help during a cold.\n",
            "You: bye\n",
            "HealthBot: Goodbye! Stay healthy.\n"
          ]
        }
      ],
      "source": [
        "import random\n",
        "\n",
        "responses = {\n",
        "    \"hi\": [\"Hello! I am HealthBot. How can I assist you today?\"],\n",
        "    \"hello\": [\"Hi! Do you have a health-related question?\"],\n",
        "    \"i have a headache\": [\"You should rest, stay hydrated, and take a mild pain reliever if needed.\"],\n",
        "    \"what should i do if i have a fever?\": [\"Drink plenty of fluids and rest. If the fever persists, please consult a doctor.\"],\n",
        "    \"i feel dizzy\": [\"Sit down, breathe deeply, and drink water. If it continues, seek medical help.\"],\n",
        "    \"what should i eat for a cold?\": [\"Warm fluids, soups, citrus fruits, and light meals help during a cold.\"],\n",
        "    \"how to stay healthy?\": [\"Eat balanced meals, exercise regularly, stay hydrated, and get enough sleep.\"],\n",
        "    \"what should i do in case of a cut?\": [\"Clean the wound with water, apply antiseptic, and cover it with a clean bandage.\"],\n",
        "    \"how much water should i drink daily?\": [\"Generally, 2 to 3 liters per day is recommended, but it varies based on your activity.\"],\n",
        "    \"thank you\": [\"You’re welcome! Take care.\"],\n",
        "    \"bye\": [\"Goodbye! Stay healthy.\"]\n",
        "}\n",
        "\n",
        "def health_chatbot():\n",
        "    print(\"HealthBot: Hello! I am HealthBot. How can I assist you today?\")\n",
        "    while True:\n",
        "        user_input = input(\"You: \").lower()\n",
        "        if user_input in responses:\n",
        "            print(\"HealthBot:\", random.choice(responses[user_input]))\n",
        "        else:\n",
        "            print(\"HealthBot: I'm sorry, I don't have an answer for that. Please consult a doctor.\")\n",
        "        if user_input == \"bye\":\n",
        "            break\n",
        "\n",
        "health_chatbot()"
      ]
    }
  ]
}