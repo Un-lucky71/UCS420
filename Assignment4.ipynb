{
  "nbformat": 4,
  "nbformat_minor": 0,
  "metadata": {
    "colab": {
      "provenance": []
    },
    "kernelspec": {
      "name": "python3",
      "display_name": "Python 3"
    },
    "language_info": {
      "name": "python"
    }
  },
  "cells": [
    {
      "cell_type": "markdown",
      "source": [
        "## **Assignment-4**\n",
        "**Q-1:WAP to print the table of 7, 9.**"
      ],
      "metadata": {
        "id": "vBcgBK1ccZnh"
      }
    },
    {
      "cell_type": "code",
      "execution_count": 4,
      "metadata": {
        "colab": {
          "base_uri": "https://localhost:8080/"
        },
        "id": "djbpAuMIWjCy",
        "outputId": "f633108a-75f6-4668-eebf-58fa1a97c5b1"
      },
      "outputs": [
        {
          "output_type": "stream",
          "name": "stdout",
          "text": [
            "7 * 1 = 7\n",
            "7 * 2 = 14\n",
            "7 * 3 = 21\n",
            "7 * 4 = 28\n",
            "7 * 5 = 35\n",
            "7 * 6 = 42\n",
            "7 * 7 = 49\n",
            "7 * 8 = 56\n",
            "7 * 9 = 63\n",
            "7 * 10 = 70\n"
          ]
        }
      ],
      "source": [
        "#Table of 7\n",
        "for i in range(1,11):\n",
        "    print(\"7 *\",i,\"=\",7*i)"
      ]
    },
    {
      "cell_type": "code",
      "source": [
        "#Table of 9\n",
        "for i in range(1,11):\n",
        "    print(\"9 *\",i,\"=\",9*i)"
      ],
      "metadata": {
        "colab": {
          "base_uri": "https://localhost:8080/"
        },
        "id": "BsfP01rGW2on",
        "outputId": "01068c6a-4905-4c29-bb6b-6ee1155ec847"
      },
      "execution_count": 5,
      "outputs": [
        {
          "output_type": "stream",
          "name": "stdout",
          "text": [
            "9 * 1 = 9\n",
            "9 * 2 = 18\n",
            "9 * 3 = 27\n",
            "9 * 4 = 36\n",
            "9 * 5 = 45\n",
            "9 * 6 = 54\n",
            "9 * 7 = 63\n",
            "9 * 8 = 72\n",
            "9 * 9 = 81\n",
            "9 * 10 = 90\n"
          ]
        }
      ]
    },
    {
      "cell_type": "markdown",
      "source": [
        "**Q-2: WAP to print the table of n and n is given by user.**"
      ],
      "metadata": {
        "id": "pJzbhvA6lrSM"
      }
    },
    {
      "cell_type": "code",
      "source": [
        "\n",
        "n = int(input(\"Enter the number: \"))\n",
        "for i in range(1,11):\n",
        "    print(n,\"*\",i,\"=\",n*i)"
      ],
      "metadata": {
        "id": "B8Ocm7qOlkOP",
        "outputId": "9ad62b0a-7933-46cb-c21c-f9630aa02a18",
        "colab": {
          "base_uri": "https://localhost:8080/"
        }
      },
      "execution_count": 6,
      "outputs": [
        {
          "output_type": "stream",
          "name": "stdout",
          "text": [
            "Enter the number: 10\n",
            "10 * 1 = 10\n",
            "10 * 2 = 20\n",
            "10 * 3 = 30\n",
            "10 * 4 = 40\n",
            "10 * 5 = 50\n",
            "10 * 6 = 60\n",
            "10 * 7 = 70\n",
            "10 * 8 = 80\n",
            "10 * 9 = 90\n",
            "10 * 10 = 100\n"
          ]
        }
      ]
    },
    {
      "cell_type": "markdown",
      "source": [
        "**Q-3: WAP to add all the numbers from 1 to n and n is given by user.**"
      ],
      "metadata": {
        "id": "ZcJZUOQ4lv3w"
      }
    },
    {
      "cell_type": "code",
      "source": [
        "n = int(input(\"Enter the number: \"))\n",
        "sum = 0\n",
        "for i in range(1,n+1):\n",
        "    sum = sum + i\n",
        "print(\"Sum of numbers from 1 to\",n,\"is = \",sum)"
      ],
      "metadata": {
        "id": "FE0rA4dwl0OD",
        "outputId": "64bddbee-afed-4a37-d0f0-d06f2f0e73c1",
        "colab": {
          "base_uri": "https://localhost:8080/"
        }
      },
      "execution_count": 7,
      "outputs": [
        {
          "output_type": "stream",
          "name": "stdout",
          "text": [
            "Enter the number: 10\n",
            "Sum of numbers from 1 to 10 is =  55\n"
          ]
        }
      ]
    }
  ]
}