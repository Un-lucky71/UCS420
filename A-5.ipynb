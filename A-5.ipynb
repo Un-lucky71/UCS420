{
  "nbformat": 4,
  "nbformat_minor": 0,
  "metadata": {
    "colab": {
      "provenance": []
    },
    "kernelspec": {
      "name": "python3",
      "display_name": "Python 3"
    },
    "language_info": {
      "name": "python"
    }
  },
  "cells": [
    {
      "cell_type": "markdown",
      "source": [
        "## **Assignment-5**\n",
        "**Q-1:WAP to find max amoung three numbers and input from user. [Try max() function]**"
      ],
      "metadata": {
        "id": "vBcgBK1ccZnh"
      }
    },
    {
      "cell_type": "code",
      "execution_count": 8,
      "metadata": {
        "colab": {
          "base_uri": "https://localhost:8080/"
        },
        "id": "djbpAuMIWjCy",
        "outputId": "c964cb8a-cd56-4bf8-9a2a-7535f5f50e0a"
      },
      "outputs": [
        {
          "output_type": "stream",
          "name": "stdout",
          "text": [
            "Enter first number: 100\n",
            "Enter second number: 55\n",
            "Enter third number: 84\n",
            "Maximum number is:  100\n"
          ]
        }
      ],
      "source": [
        "num1 = int(input(\"Enter first number: \"))\n",
        "num2 = int(input(\"Enter second number: \"))\n",
        "num3 = int(input(\"Enter third number: \"))\n",
        "ans = max(num1, num2, num3)\n",
        "print(\"Maximum number is: \", ans)"
      ]
    },
    {
      "cell_type": "markdown",
      "source": [
        "**Q-2: WAP to add all numbers divisible by 7 and 9 from 1 to n and n is given by the user.**"
      ],
      "metadata": {
        "id": "pJzbhvA6lrSM"
      }
    },
    {
      "cell_type": "code",
      "source": [
        "n = int(input(\"Enter a number: \"))\n",
        "sum = 0\n",
        "for i in range(1, n+1):\n",
        "    if i%7 == 0 and i%9 == 0:\n",
        "        sum += i\n",
        "print(\"Sum of all numbers divisible by 7 and 9 is: \", sum)"
      ],
      "metadata": {
        "colab": {
          "base_uri": "https://localhost:8080/"
        },
        "id": "B8Ocm7qOlkOP",
        "outputId": "23ca37de-046d-41a8-cb33-6bff06fff31d"
      },
      "execution_count": 9,
      "outputs": [
        {
          "output_type": "stream",
          "name": "stdout",
          "text": [
            "Enter a number: 150\n",
            "Sum of all numbers divisible by 7 and 9 is:  189\n"
          ]
        }
      ]
    },
    {
      "cell_type": "markdown",
      "source": [
        "**Q-3: WAP to add all prime numbers from 1 to n and n is given by the user.**"
      ],
      "metadata": {
        "id": "ZcJZUOQ4lv3w"
      }
    },
    {
      "cell_type": "code",
      "source": [
        "n = int(input(\"Enter a number: \"))\n",
        "sum = 0\n",
        "for i in range(2, n//2+1):\n",
        "  if n%i != 0:\n",
        "    sum += i\n",
        "print(\"Sum of all prime numbers is:\", sum)"
      ],
      "metadata": {
        "colab": {
          "base_uri": "https://localhost:8080/"
        },
        "id": "FE0rA4dwl0OD",
        "outputId": "a8d00156-baf5-410f-cde3-92376db163d0"
      },
      "execution_count": 10,
      "outputs": [
        {
          "output_type": "stream",
          "name": "stdout",
          "text": [
            "Enter a number: 30\n",
            "Sum of all prime numbers is: 78\n"
          ]
        }
      ]
    }
  ]
}
