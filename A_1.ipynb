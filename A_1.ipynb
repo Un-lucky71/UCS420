{
  "nbformat": 4,
  "nbformat_minor": 0,
  "metadata": {
    "colab": {
      "provenance": []
    },
    "kernelspec": {
      "name": "python3",
      "display_name": "Python 3"
    },
    "language_info": {
      "name": "python"
    }
  },
  "cells": [
    {
      "cell_type": "markdown",
      "source": [
        "## **Assignment-2**\n",
        "**Q-1**"
      ],
      "metadata": {
        "id": "zuZDZLa5eQqW"
      }
    },
    {
      "cell_type": "code",
      "execution_count": 1,
      "metadata": {
        "colab": {
          "base_uri": "https://localhost:8080/"
        },
        "id": "nDHUjrf_eCOU",
        "outputId": "e07389ef-bda0-4e28-f0b8-0978e0584f78"
      },
      "outputs": [
        {
          "output_type": "execute_result",
          "data": {
            "text/plain": [
              "60"
            ]
          },
          "metadata": {},
          "execution_count": 1
        }
      ],
      "source": [
        "a1=10\n",
        "b1=20\n",
        "c1=30\n",
        "d=a1+b1+c1\n",
        "d"
      ]
    },
    {
      "cell_type": "markdown",
      "source": [
        "**Q-2**"
      ],
      "metadata": {
        "id": "SFt6IXYOeTjo"
      }
    },
    {
      "cell_type": "code",
      "source": [
        "string1 = \"i \"\n",
        "string2 = \"do \"\n",
        "string3 = \"programming\"\n",
        "string1+string2+string3"
      ],
      "metadata": {
        "colab": {
          "base_uri": "https://localhost:8080/",
          "height": 35
        },
        "id": "-FnS_DvOeNkF",
        "outputId": "d82c4364-ec43-443c-b38d-79f118e643fa"
      },
      "execution_count": 2,
      "outputs": [
        {
          "output_type": "execute_result",
          "data": {
            "text/plain": [
              "'i do programming'"
            ],
            "application/vnd.google.colaboratory.intrinsic+json": {
              "type": "string"
            }
          },
          "metadata": {},
          "execution_count": 2
        }
      ]
    }
  ]
}