{
  "nbformat": 4,
  "nbformat_minor": 0,
  "metadata": {
    "colab": {
      "provenance": []
    },
    "kernelspec": {
      "name": "python3",
      "display_name": "Python 3"
    },
    "language_info": {
      "name": "python"
    }
  },
  "cells": [
    {
      "cell_type": "markdown",
      "source": [
        "### ***Assignment-1***\n",
        "**WAP to print your name three times**"
      ],
      "metadata": {
        "id": "TZPI3zw5ijSi"
      }
    },
    {
      "cell_type": "code",
      "execution_count": 1,
      "metadata": {
        "colab": {
          "base_uri": "https://localhost:8080/"
        },
        "id": "w-wKB8Eif4C6",
        "outputId": "2037e990-02cc-4002-cbad-07c17ed0dff7"
      },
      "outputs": [
        {
          "output_type": "stream",
          "name": "stdout",
          "text": [
            "Lucky singh\n",
            "Lucky singh\n",
            "Lucky singh\n"
          ]
        }
      ],
      "source": [
        "for i in range(0,3):\n",
        "  print(\"Lucky singh\")"
      ]
    }
  ]
}