{
  "nbformat": 4,
  "nbformat_minor": 0,
  "metadata": {
    "colab": {
      "provenance": []
    },
    "kernelspec": {
      "name": "python3",
      "display_name": "Python 3"
    },
    "language_info": {
      "name": "python"
    }
  },
  "cells": [
    {
      "cell_type": "markdown",
      "source": [
        "# **Assignment-2**\n",
        "**Q 1.** Create a List L that is defined as= [10, 20, 30, 40, 50, 60, 70, 80].\n",
        "\n",
        "1) WAP to add 200 and 300 to L.\n",
        "\n",
        "2) WAP to remove 10 and 30 from L.\n",
        "\n",
        "3) WAP to sort L in ascending order.\n",
        "\n",
        "4) WAP to sort L in descending order."
      ],
      "metadata": {
        "id": "Hv7vCZnAXQVn"
      }
    },
    {
      "cell_type": "code",
      "execution_count": 22,
      "metadata": {
        "colab": {
          "base_uri": "https://localhost:8080/"
        },
        "id": "djbpAuMIWjCy",
        "outputId": "bbe5ac44-eeb4-4904-f625-2f6f07d80722"
      },
      "outputs": [
        {
          "output_type": "stream",
          "name": "stdout",
          "text": [
            "1) add 200 and 300 to L: \n",
            "[10, 20, 30, 40, 50, 60, 70, 80, 200, 300]\n",
            "2) WAP to remove 10 and 30 from L1: \n",
            "[20, 40, 50, 60, 70, 80, 200, 300]\n",
            "3) WAP to sort L3 in ascending order: \n",
            "[20, 40, 50, 60, 70, 80, 200, 300]\n",
            "4) WAP to sort L4 in descending order: \n",
            "[300, 200, 80, 70, 60, 50, 40, 20]\n"
          ]
        }
      ],
      "source": [
        "L = [10, 20, 30, 40, 50, 60, 70, 80]\n",
        "print(\"1) add 200 and 300 to L: \")\n",
        "L.extend([200,300])\n",
        "print(L)\n",
        "\n",
        "print(\"2) WAP to remove 10 and 30 from L1: \")\n",
        "L.remove(10)\n",
        "L.remove(30)\n",
        "print(L)\n",
        "\n",
        "print(\"3) WAP to sort L3 in ascending order: \")\n",
        "print(sorted(L))\n",
        "\n",
        "print(\"4) WAP to sort L4 in descending order: \")\n",
        "print(sorted(L, reverse = True))"
      ]
    },
    {
      "cell_type": "markdown",
      "source": [
        "**Q 2.** Create a tuple of marks scored as scores = (45, 89.5, 76, 45.4, 89, 92, 58, 45) and perform the following operations using tuple functions:\n",
        "\n",
        "1) Identify the highest score and its index in the tuple.\n",
        "\n",
        "2) Find the lowest score and count how many times it appears.\n",
        "\n",
        "3) Reverse the tuple and return it as a list.\n",
        "\n",
        "4) Check if a specific score ‘76’ (input by the user) is present in the tuple and print its first occurrence index, or a message saying it’s not present."
      ],
      "metadata": {
        "id": "XCCHrlQgYIrk"
      }
    },
    {
      "cell_type": "code",
      "source": [
        "score = (45, 89.5, 76, 45.4, 89, 92, 58, 45)\n",
        "print(\"2) Find the lowest score and count how many times it appears: \")\n",
        "minS = __builtins__.min(score)\n",
        "print(f\"Highest Score: {minS} at index {score.count(minS)}\")\n",
        "\n",
        "print(\"3) Reverse the tuple and return it as a list: \")\n",
        "print(list(reversed(score)))\n",
        "\n",
        "print(\"4) Check if a specific score ‘76’ (input by the user) is present in the tuple and print its first occurrence index, or a message saying it’s not present: \")\n",
        "check_s = int(input(\"\\nEnter a score to check: \"))\n",
        "if check_s in score:\n",
        "  print(\"Score found at index: \", score.index(check_s))\n",
        "else:\n",
        "  print(\"Score not found\")"
      ],
      "metadata": {
        "colab": {
          "base_uri": "https://localhost:8080/"
        },
        "id": "BsfP01rGW2on",
        "outputId": "7208fa88-118e-405f-f204-c6efd25b6895"
      },
      "execution_count": 35,
      "outputs": [
        {
          "output_type": "stream",
          "name": "stdout",
          "text": [
            "2) Find the lowest score and count how many times it appears: \n",
            "Highest Score: 45 at index 2\n",
            "3) Reverse the tuple and return it as a list: \n",
            "[45, 58, 92, 89, 45.4, 76, 89.5, 45]\n",
            "4) Check if a specific score ‘76’ (input by the user) is present in the tuple and print its first occurrence index, or a message saying it’s not present: \n",
            "\n",
            "Enter a score to check: 76\n",
            "Score found at index:  2\n"
          ]
        }
      ]
    },
    {
      "cell_type": "markdown",
      "source": [
        "**Q 3.** WAP to create a list of 100 random numbers between 100 and 900. Count and print the:\n",
        "\n",
        "1) All odd numbers\n",
        "\n",
        "2) All even numbers\n",
        "\n",
        "3) All prime numbers"
      ],
      "metadata": {
        "id": "wORq65jmZ6UQ"
      }
    },
    {
      "cell_type": "code",
      "source": [
        "import random\n",
        "\n",
        "def is_prime(n):\n",
        "    return n > 1 and all(n % i for i in range(2, int(n**0.5) + 1))\n",
        "\n",
        "nums = [random.randint(100, 900) for _ in range(100)]\n",
        "odds = [n for n in nums if n % 2]\n",
        "evens = [n for n in nums if n % 2 == 0]\n",
        "primes = [n for n in nums if is_prime(n)]\n",
        "\n",
        "print(f\"Random Numbers: {nums}\\nTotal Odd Numbers: {len(odds)}\\nOdd Numbers: {odds}\\nTotal Even Numbers: {len(evens)}\\nEven Numbers: {evens}\\nTotal Prime Numbers: {len(primes)}\\nPrime Numbers: {primes}\")\n",
        "\n",
        ""
      ],
      "metadata": {
        "colab": {
          "base_uri": "https://localhost:8080/"
        },
        "id": "MOXEE_sGZ_S9",
        "outputId": "58bee9af-3ec8-4283-b68d-c44f9c0cabd9"
      },
      "execution_count": 21,
      "outputs": [
        {
          "output_type": "stream",
          "name": "stdout",
          "text": [
            "[514, 755, 407, 754, 877, 465, 366, 612, 281, 700, 356, 639, 187, 178, 336, 444, 885, 543, 630, 478, 150, 417, 889, 682, 897, 505, 461, 490, 600, 762, 573, 153, 306, 740, 125, 643, 163, 394, 806, 564, 591, 404, 464, 323, 834, 383, 431, 520, 348, 123, 102, 377, 653, 527, 432, 190, 370, 450, 869, 702, 321, 253, 840, 714, 211, 488, 424, 139, 711, 611, 878, 697, 855, 453, 385, 302, 249, 880, 193, 315, 706, 415, 710, 307, 334, 454, 181, 555, 544, 719, 605, 613, 586, 358, 515, 794, 455, 320, 408, 400]\n",
            "\n",
            "Odd numbers:\n",
            "755, 407, 877, 465, 281, 639, 187, 885, 543, 417, 889, 897, 505, 461, 573, 153, 125, 643, 163, 591, 323, 383, 431, 123, 377, 653, 527, 869, 321, 253, 211, 139, 711, 611, 697, 855, 453, 385, 249, 193, 315, 415, 307, 181, 555, 719, 605, 613, 515, 455, \n",
            "Even numbers:\n",
            "514, 754, 366, 612, 700, 356, 178, 336, 444, 630, 478, 150, 682, 490, 600, 762, 306, 740, 394, 806, 564, 404, 464, 834, 520, 348, 102, 432, 190, 370, 450, 702, 840, 714, 488, 424, 878, 302, 880, 706, 710, 334, 454, 544, 586, 358, 794, 320, 408, 400, \n",
            "Prime numbers:\n",
            "877, 281, 461, 643, 163, 383, 431, 653, 211, 139, 193, 307, 181, 719, 613, "
          ]
        }
      ]
    }
  ]
}